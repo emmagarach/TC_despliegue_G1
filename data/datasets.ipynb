{
 "cells": [
  {
   "cell_type": "markdown",
   "id": "e24edb6c",
   "metadata": {},
   "source": [
    "## DOS DATASETS para predicciones y retrain"
   ]
  },
  {
   "cell_type": "code",
   "execution_count": 2,
   "id": "d36f883d",
   "metadata": {},
   "outputs": [],
   "source": [
    "import pandas as pd\n",
    "import numpy as np"
   ]
  },
  {
   "cell_type": "code",
   "execution_count": 3,
   "id": "6d22ca80",
   "metadata": {},
   "outputs": [
    {
     "name": "stdout",
     "output_type": "stream",
     "text": [
      "<class 'pandas.core.frame.DataFrame'>\n",
      "RangeIndex: 4898 entries, 0 to 4897\n",
      "Data columns (total 12 columns):\n",
      " #   Column                Non-Null Count  Dtype  \n",
      "---  ------                --------------  -----  \n",
      " 0   fixed acidity         4898 non-null   float64\n",
      " 1   volatile acidity      4898 non-null   float64\n",
      " 2   citric acid           4898 non-null   float64\n",
      " 3   residual sugar        4898 non-null   float64\n",
      " 4   chlorides             4898 non-null   float64\n",
      " 5   free sulfur dioxide   4898 non-null   float64\n",
      " 6   total sulfur dioxide  4898 non-null   float64\n",
      " 7   density               4898 non-null   float64\n",
      " 8   pH                    4898 non-null   float64\n",
      " 9   sulphates             4898 non-null   float64\n",
      " 10  alcohol               4898 non-null   float64\n",
      " 11  quality               4898 non-null   int64  \n",
      "dtypes: float64(11), int64(1)\n",
      "memory usage: 459.3 KB\n"
     ]
    }
   ],
   "source": [
    "data = pd.read_csv('./winequality-white.csv', sep=\";\")\n",
    "\n",
    "data.info()"
   ]
  },
  {
   "cell_type": "code",
   "execution_count": 4,
   "id": "acff1fca",
   "metadata": {},
   "outputs": [
    {
     "data": {
      "text/plain": [
       "2449.0"
      ]
     },
     "execution_count": 4,
     "metadata": {},
     "output_type": "execute_result"
    }
   ],
   "source": [
    "len(data.pH)/2"
   ]
  },
  {
   "cell_type": "code",
   "execution_count": 5,
   "id": "34b29acf",
   "metadata": {},
   "outputs": [],
   "source": [
    "#Separamos data en dos\n",
    "\n",
    "winequality = data[0:2449]\n",
    "\n",
    "winequality_new = data[2449:]"
   ]
  },
  {
   "cell_type": "code",
   "execution_count": 8,
   "id": "ad5d3dd7",
   "metadata": {},
   "outputs": [],
   "source": [
    "#Guardamos archivos\n",
    "\n",
    "winequality.to_csv('winequality.csv', index=False, sep=\";\")\n",
    "winequality_new.to_csv('winequality_new.csv', index=False, sep=\";\")"
   ]
  },
  {
   "cell_type": "code",
   "execution_count": null,
   "id": "3eec617b",
   "metadata": {},
   "outputs": [],
   "source": []
  }
 ],
 "metadata": {
  "kernelspec": {
   "display_name": "Python 3",
   "language": "python",
   "name": "python3"
  },
  "language_info": {
   "codemirror_mode": {
    "name": "ipython",
    "version": 3
   },
   "file_extension": ".py",
   "mimetype": "text/x-python",
   "name": "python",
   "nbconvert_exporter": "python",
   "pygments_lexer": "ipython3",
   "version": "3.10.0"
  }
 },
 "nbformat": 4,
 "nbformat_minor": 5
}
